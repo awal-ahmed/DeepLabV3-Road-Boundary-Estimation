{
  "nbformat": 4,
  "nbformat_minor": 0,
  "metadata": {
    "colab": {
      "name": "McNemar's test.ipynb",
      "provenance": [],
      "collapsed_sections": []
    },
    "kernelspec": {
      "display_name": "Python 3",
      "name": "python3"
    }
  },
  "cells": [
    {
      "cell_type": "code",
      "metadata": {
        "id": "UAZGLVdE5C1Q"
      },
      "source": [
        ""
      ],
      "execution_count": null,
      "outputs": []
    },
    {
      "cell_type": "code",
      "metadata": {
        "id": "g2lw74xfHO2v"
      },
      "source": [
        "\n",
        "from google.colab import drive\n",
        "drive.mount('/content/drive')"
      ],
      "execution_count": null,
      "outputs": []
    },
    {
      "cell_type": "markdown",
      "metadata": {
        "id": "s8_UkYDpiuo7"
      },
      "source": [
        "**source:** https://www.kaggle.com/awalahmedfime/bacteria-segmentation/edit/run/42535923"
      ]
    },
    {
      "cell_type": "code",
      "metadata": {
        "id": "h7YSQ1DhHPuw"
      },
      "source": [
        "import numpy as np\n",
        "import pandas as pd\n",
        "from PIL import Image\n",
        "import os\n",
        "import cv2\n",
        "from tqdm import tqdm\n",
        "import tensorflow as tf\n",
        "import matplotlib.pyplot as plt\n",
        "from tensorflow.keras.preprocessing.image import ImageDataGenerator\n",
        "from tensorflow import keras"
      ],
      "execution_count": null,
      "outputs": []
    },
    {
      "cell_type": "markdown",
      "metadata": {
        "id": "nRjGbfDri_KX"
      },
      "source": [
        "**Constants**"
      ]
    },
    {
      "cell_type": "code",
      "metadata": {
        "id": "2DrmA1ahHPxA"
      },
      "source": [
        "np.random.seed(41)\n",
        "IMAGE_HEIGHT = 256\n",
        "IMAGE_WIDTH = 256\n",
        "BATCH_SIZE = 16\n",
        "NUM_CLASSES = 3\n",
        "IMG_PATH = '/content/drive/My Drive/Machine Learning/iccv09 3 class/train Image/'\n",
        "MASK_PATH = '/content/drive/My Drive/Machine Learning/iccv09 3 class/mask/'\n",
        "#LABEL_PATH = '../input/bacteria-detection-with-darkfield-microscopy/masks/'\n",
        "IMG_SUB_PATH = '/content/drive/My Drive/Machine Learning/iccv09 3 class/train Image/Image/'\n",
        "MASK_SUB_PATH = '/content/drive/My Drive/Machine Learning/iccv09 3 class/train One hot/One hot/'\n",
        "ONEHOT_MASK = '/content/drive/My Drive/Machine Learning/iccv09 3 class/mask/mask'"
      ],
      "execution_count": null,
      "outputs": []
    },
    {
      "cell_type": "markdown",
      "metadata": {
        "id": "MBKp5KTPjJCr"
      },
      "source": [
        "Mask need to be onehot incoded"
      ]
    },
    {
      "cell_type": "code",
      "metadata": {
        "id": "dUS7czj3up0E"
      },
      "source": [
        "test_p = \"/content/drive/My Drive/Machine Learning/iccv09 3 class/test Image/\"\n",
        "test_m = \"/content/drive/My Drive/Machine Learning/iccv09 3 class/test one hot/\"\n",
        "\n",
        "\n",
        "tst_fies = os.listdir(test_m)\n",
        "tst_fies.sort()\n",
        "test= np.zeros((len(tst_fies), IMAGE_HEIGHT , IMAGE_WIDTH, 3), dtype= np.bool)\n",
        "for n, mf in tqdm(enumerate(tst_fies), total=len(tst_fies)):\n",
        "  img = cv2.imread(os.path.join(test_m, mf) )\n",
        "  img = cv2.resize(img, (IMAGE_HEIGHT, IMAGE_WIDTH))\n",
        "  img = img / 255\n",
        "  test[n] = img"
      ],
      "execution_count": null,
      "outputs": []
    },
    {
      "cell_type": "code",
      "metadata": {
        "id": "4gvB0RtefdJQ"
      },
      "source": [
        "from keras import backend as K"
      ],
      "execution_count": null,
      "outputs": []
    },
    {
      "cell_type": "code",
      "metadata": {
        "id": "gc_xXyEWdTqm"
      },
      "source": [
        "def dice_coef(y_true, y_pred, smooth=1):\n",
        "    intersection = K.sum(K.abs(y_true * y_pred), axis=-1)\n",
        "    return (2. * intersection + smooth) / (K.sum(K.square(y_true),-1) + K.sum(K.square(y_pred),-1) + smooth)\n",
        "\n",
        "def dice_coef_loss(y_true, y_pred):\n",
        "    return 1-dice_coef(y_true, y_pred)"
      ],
      "execution_count": null,
      "outputs": []
    },
    {
      "cell_type": "code",
      "metadata": {
        "id": "jUVw3cWAQWBo"
      },
      "source": [
        "def jaccard_index(y_true, y_pred, smooth=1):\n",
        "    intersection = K.sum(K.abs(y_true * y_pred), axis=-1)\n",
        "    sum_ = K.sum(K.abs(y_true) + K.abs(y_pred), axis=-1)\n",
        "    jac = (intersection + smooth) / (sum_ - intersection + smooth)\n",
        "    #return (1 - jac) * smooth\n",
        "    return jac\n",
        "\n",
        "def jaccard_index_loss(y_true, y_pred, smooth=1):\n",
        "    return (1 - jaccard_index(y_true, y_pred)) * smooth"
      ],
      "execution_count": null,
      "outputs": []
    },
    {
      "cell_type": "code",
      "metadata": {
        "id": "dyQ06Lw6k_ra"
      },
      "source": [
        "pip install scikit-plot"
      ],
      "execution_count": null,
      "outputs": []
    },
    {
      "cell_type": "code",
      "metadata": {
        "id": "HGUuns73v3I4"
      },
      "source": [
        "modelFile = \"/content/drive/MyDrive/Machine Learning/iccv09 3 class/resnet101_dice_coef_loss_Yes.h5\"\n",
        "#model = keras.models.load_model(modelFile)\n",
        "#model = keras.models.load_model(modelFile, custom_objects={'jaccard_index_loss': jaccard_index_loss, 'jaccard_index':jaccard_index})\n",
        "model = keras.models.load_model(modelFile, custom_objects={'dice_coef_loss': dice_coef_loss, 'dice_coef': dice_coef})\n",
        "#Reloading model\n",
        "#model = keras.models.load_model(\"/content/drive/MyDrive/Machine Learning/iccv09 3 class/Weight1/resnet50 dice_coef_loss with weight 41/resnet50_with_wights.h5\")"
      ],
      "execution_count": null,
      "outputs": []
    },
    {
      "cell_type": "code",
      "metadata": {
        "id": "l95j6LDVKkqU"
      },
      "source": [
        "\n",
        "test_files = os.listdir(test_p)\n",
        "test_files.sort()\n",
        "y_score= np.zeros((len(tst_fies), IMAGE_HEIGHT , IMAGE_WIDTH, 3), dtype= np.float)\n",
        "for n, mf in tqdm(enumerate(test_files), total=len(test_files)):\n",
        "  img = cv2.imread(os.path.join(test_p, mf) )\n",
        "  img =  cv2.resize(img, (IMAGE_HEIGHT, IMAGE_WIDTH))\n",
        "  img=np.expand_dims(img, 0)\n",
        "  img = model.predict(img)\n",
        "  img =  np.squeeze(img)\n",
        "  img = cv2.cvtColor(img, cv2.COLOR_BGR2RGB)\n",
        "  y_score[n]=img\n",
        "\n",
        "y_true = test*1\n",
        "y_probas = y_score*1"
      ],
      "execution_count": null,
      "outputs": []
    },
    {
      "cell_type": "code",
      "metadata": {
        "id": "v39E4poVe4lV"
      },
      "source": [
        "cls1=np.zeros((100, 256, 256), dtype= np.bool)\n",
        "for i in range(100):\n",
        "  for j in range(256):\n",
        "    for k in range(256):\n",
        "      tr=np.argmax(y_true[i,j,k,:])\n",
        "      pr=np.argmax(y_probas[i,j,k,:])\n",
        "      cls1[i][j][k]=(tr==pr)\n",
        "\n",
        "cls1=cls1.reshape(-1)"
      ],
      "execution_count": null,
      "outputs": []
    },
    {
      "cell_type": "code",
      "metadata": {
        "id": "dOpVzg0rv-2s"
      },
      "source": [
        ""
      ],
      "execution_count": null,
      "outputs": []
    },
    {
      "cell_type": "code",
      "metadata": {
        "id": "t9xdujBZ95Wu"
      },
      "source": [
        "modelFile = \"/content/drive/MyDrive/Machine Learning/iccv09 3 class/resnet50_categorical_crossentropy_loss_Yes.h5\"\n",
        "model1 = keras.models.load_model(modelFile)\n",
        "#model1 = keras.models.load_model(modelFile, custom_objects={'jaccard_index_loss': jaccard_index_loss})\n",
        "#model1 = keras.models.load_model(modelFile, custom_objects={'dice_coef_loss': dice_coef_loss})\n",
        "#model1 = keras.models.load_model(modelFile, custom_objects={'jaccard_index_loss': jaccard_index_loss, 'jaccard_index':jaccard_index})\n",
        "#model1 = keras.models.load_model(modelFile, custom_objects={'dice_coef_loss': dice_coef_loss, 'dice_coef': dice_coef})\n",
        "#Reloading model\n",
        "#model = keras.models.load_model(\"/content/drive/MyDrive/Machine Learning/iccv09 3 class/Weight1/resnet50 dice_coef_loss with weight 41/resnet50_with_wights.h5\")"
      ],
      "execution_count": null,
      "outputs": []
    },
    {
      "cell_type": "code",
      "metadata": {
        "id": "i4pSj99W95XE"
      },
      "source": [
        "\n",
        "test_files = os.listdir(test_p)\n",
        "test_files.sort()\n",
        "y_score1= np.zeros((len(tst_fies), IMAGE_HEIGHT , IMAGE_WIDTH, 3), dtype= np.float)\n",
        "for n, mf in tqdm(enumerate(test_files), total=len(test_files)):\n",
        "  img = cv2.imread(os.path.join(test_p, mf) )\n",
        "  img =  cv2.resize(img, (IMAGE_HEIGHT, IMAGE_WIDTH))\n",
        "  img=np.expand_dims(img, 0)\n",
        "  img = model1.predict(img)\n",
        "  img =  np.squeeze(img)\n",
        "  img = cv2.cvtColor(img, cv2.COLOR_BGR2RGB)\n",
        "  y_score1[n]=img\n",
        "\n",
        "y_probas1 = y_score1*1"
      ],
      "execution_count": null,
      "outputs": []
    },
    {
      "cell_type": "code",
      "metadata": {
        "id": "ELHNNzOw95XF"
      },
      "source": [
        "cls2=np.zeros((len(tst_fies), 256, 256), dtype= np.bool)\n",
        "for i in range(len(tst_fies)):\n",
        "  for j in range(256):\n",
        "    for k in range(256):\n",
        "      tr=np.argmax(y_true[i,j,k,:])\n",
        "      pr=np.argmax(y_probas1[i,j,k,:])\n",
        "      cls2[i][j][k]=(tr==pr)\n",
        "\n",
        "cls2=cls2.reshape(-1)"
      ],
      "execution_count": null,
      "outputs": []
    },
    {
      "cell_type": "code",
      "metadata": {
        "id": "3jce4--m95XG"
      },
      "source": [
        "cls2.shape"
      ],
      "execution_count": null,
      "outputs": []
    },
    {
      "cell_type": "code",
      "metadata": {
        "id": "orLLJxPTACDE"
      },
      "source": [
        "cont=np.zeros((2,2), dtype= np.int)\n",
        "for i in range(len(cls2)):\n",
        "  cont[1-cls1[i]][1-cls2[i]]=cont[1-cls1[i]][1-cls2[i]]+1\n",
        "\n",
        "cont"
      ],
      "execution_count": null,
      "outputs": []
    },
    {
      "cell_type": "code",
      "metadata": {
        "id": "EJfogKmcBzBC"
      },
      "source": [
        "from statsmodels.stats.contingency_tables import mcnemar\n",
        "result = mcnemar(cont, exact=True)\n",
        "# summarize the finding\n",
        "print('statistic=%f, p-value=%f' % (result.statistic, result.pvalue))"
      ],
      "execution_count": null,
      "outputs": []
    },
    {
      "cell_type": "code",
      "metadata": {
        "id": "WvxtfwH3CE70"
      },
      "source": [
        "result = mcnemar(cont, exact=False)\n",
        "# summarize the finding\n",
        "print('statistic=%f, p-value=%f' % (result.statistic, result.pvalue))"
      ],
      "execution_count": null,
      "outputs": []
    },
    {
      "cell_type": "code",
      "metadata": {
        "id": "B3RkYrlX94MD"
      },
      "source": [
        ""
      ],
      "execution_count": null,
      "outputs": []
    }
  ]
}